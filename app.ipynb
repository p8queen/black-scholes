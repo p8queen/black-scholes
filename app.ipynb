{
 "cells": [
  {
   "cell_type": "code",
   "execution_count": null,
   "metadata": {
    "vscode": {
     "languageId": "plaintext"
    }
   },
   "outputs": [],
   "source": [
    "import numpy as np\n",
    "import math\n",
    "from scipy.stats import norm\n",
    "from datetime import date, timedelta\n",
    "\n",
    "def black_scholes_formula(option_type, underlying_price, strike_price, time_to_maturity, volatility):\n",
    "    if time_to_maturity <= 0:\n",
    "      time_to_maturity = 0.000001\n",
    "    risk_free_rate = 0.0525\n",
    "    d1 = (math.log(underlying_price / strike_price) + (risk_free_rate + (volatility**2) / 2) * time_to_maturity) / (volatility * math.sqrt(time_to_maturity))\n",
    "    d2 = d1 - volatility * math.sqrt(time_to_maturity)\n",
    "\n",
    "    if option_type == 'call':\n",
    "        call_option_price = underlying_price * norm.cdf(d1) - strike_price * math.exp(-risk_free_rate * time_to_maturity) * norm.cdf(d2)\n",
    "        return call_option_price\n",
    "    elif option_type == 'put':\n",
    "        put_option_price = strike_price * math.exp(-risk_free_rate * time_to_maturity) * norm.cdf(-d2) - underlying_price * norm.cdf(-d1)\n",
    "        return put_option_price\n",
    "    else:\n",
    "        return None  # Invalid option type\n",
    "\n",
    "def getCall(spot,strike,dte,sigma):\n",
    "    return black_scholes_formula(\"call\",spot, strike, dte/365, sigma)\n",
    "\n",
    "def getPut(spot,strike,dte,sigma):\n",
    "    return black_scholes_formula(\"put\",spot, strike, dte/365, sigma)"
   ]
  }
 ],
 "metadata": {
  "language_info": {
   "name": "python"
  }
 },
 "nbformat": 4,
 "nbformat_minor": 2
}
