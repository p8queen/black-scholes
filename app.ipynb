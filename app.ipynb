{
 "cells": [
  {
   "cell_type": "code",
   "execution_count": 2,
   "metadata": {},
   "outputs": [],
   "source": [
    "import numpy as np\n",
    "import math\n",
    "from scipy.stats import norm\n",
    "from datetime import date, timedelta\n",
    "\n",
    "def black_scholes_formula(option_type, underlying_price, strike_price, time_to_maturity, volatility):\n",
    "    if time_to_maturity <= 0:\n",
    "      time_to_maturity = 0.000001\n",
    "    risk_free_rate = 0.0525\n",
    "    d1 = (math.log(underlying_price / strike_price) + (risk_free_rate + (volatility**2) / 2) * time_to_maturity) / (volatility * math.sqrt(time_to_maturity))\n",
    "    d2 = d1 - volatility * math.sqrt(time_to_maturity)\n",
    "\n",
    "    if option_type == 'call':\n",
    "        call_option_price = underlying_price * norm.cdf(d1) - strike_price * math.exp(-risk_free_rate * time_to_maturity) * norm.cdf(d2)\n",
    "        return call_option_price\n",
    "    elif option_type == 'put':\n",
    "        put_option_price = strike_price * math.exp(-risk_free_rate * time_to_maturity) * norm.cdf(-d2) - underlying_price * norm.cdf(-d1)\n",
    "        return put_option_price\n",
    "    else:\n",
    "        return None  # Invalid option type\n",
    "\n",
    "def getCall(spot,strike,dte,sigma):\n",
    "    return black_scholes_formula(\"call\",spot, strike, dte/365, sigma)\n",
    "\n",
    "def getPut(spot,strike,dte,sigma):\n",
    "    return black_scholes_formula(\"put\",spot, strike, dte/365, sigma)"
   ]
  },
  {
   "cell_type": "code",
   "execution_count": 3,
   "metadata": {},
   "outputs": [],
   "source": [
    "# Underlying price (per share): S;\n",
    "# Strike price of the option (per share): K;\n",
    "# Time to maturity (years): T;\n",
    "# Continuously compounding risk-free interest rate: r;\n",
    "# Continuously compounding dividend: q;\n",
    "# Volatility: sigma;\n",
    "\n",
    "# Implied Volatility using bisection\n",
    "# quantconnect.com/forum/discussion/2269/generate-volatility-surface-plot-by-interpolation/p1\n",
    "def implied_vol(option_type, option_price, S, K, r, T, q=0):\n",
    "    # apply bisection method to get the implied volatility by solving the BSM function\n",
    "    precision = 0.00001\n",
    "    upper_vol = 50.0\n",
    "    max_vol = 50.0\n",
    "    min_vol = 0.0001\n",
    "    lower_vol = 0.0001\n",
    "    iteration = 0\n",
    "\n",
    "    while 1:\n",
    "        iteration +=1\n",
    "        mid_vol = (upper_vol + lower_vol)/2.0\n",
    "        #bs_call(S,K,T,r,q,sigma):\n",
    "        #getCall(spot,strike,dte,sigma):\n",
    "        if option_type == 'c':\n",
    "            price = getCall(S,K,T,mid_vol)\n",
    "            lower_price = getCall(S,K,T,lower_vol)\n",
    "            if (lower_price - option_price) * (price - option_price) > 0:\n",
    "                lower_vol = mid_vol\n",
    "            else:\n",
    "                upper_vol = mid_vol\n",
    "            if abs(price - option_price) < precision: break\n",
    "            if mid_vol > max_vol - 5 :\n",
    "                mid_vol = 0.0001\n",
    "                break\n",
    "\n",
    "        elif option_type == 'p':\n",
    "            price = getPut(S,K,T,mid_vol)\n",
    "            upper_price = getPut(S,K,T,upper_vol)\n",
    "\n",
    "            if (upper_price - option_price) * (price - option_price) > 0:\n",
    "                upper_vol = mid_vol\n",
    "            else:\n",
    "                lower_vol = mid_vol\n",
    "\n",
    "            if abs(price - option_price) < precision: break\n",
    "\n",
    "            if iteration > 100: break\n",
    "\n",
    "    return mid_vol"
   ]
  },
  {
   "cell_type": "code",
   "execution_count": 5,
   "metadata": {},
   "outputs": [
    {
     "name": "stdout",
     "output_type": "stream",
     "text": [
      "22\n"
     ]
    },
    {
     "data": {
      "text/plain": [
       "np.float64(4.311286762924823)"
      ]
     },
     "execution_count": 5,
     "metadata": {},
     "output_type": "execute_result"
    }
   ],
   "source": [
    "#usar aqui getCall y getPut\n",
    "#ejemplo con datos del SPY en optionstrat\n",
    "#bs_call(191.94,190,28/365,0.0525,0,0.2317) 6.3490\n",
    "\n",
    "spot = 445.36\n",
    "strike1 = 450\n",
    "d0 = date.today()\n",
    "d1 = date(2024, 12, 20)\n",
    "delta = (d1 - d0).days\n",
    "print(delta)\n",
    "dte = delta #days or hours/24:\n",
    "iv1 = 0.132\n",
    "\n",
    "getCall(spot, strike1, dte, iv1)"
   ]
  },
  {
   "cell_type": "code",
   "execution_count": 6,
   "metadata": {},
   "outputs": [
    {
     "name": "stdout",
     "output_type": "stream",
     "text": [
      "dte: 22, prima: 27.210993960661597\n"
     ]
    }
   ],
   "source": [
    "strike1 = 420\n",
    "d0 = date.today()\n",
    "d1 = date(2024, 12, 20)\n",
    "delta = (d1 - d0).days\n",
    "dte = delta\n",
    "iv1 = 0.168\n",
    "prima = getCall(spot, strike1, dte, iv1)\n",
    "print(f'dte: {delta}, prima: {prima}')"
   ]
  },
  {
   "cell_type": "code",
   "execution_count": 7,
   "metadata": {},
   "outputs": [
    {
     "name": "stdout",
     "output_type": "stream",
     "text": [
      "dte: 5, prima: 6.635441012108004\n"
     ]
    }
   ],
   "source": [
    "spot = 455\n",
    "strike1 = 450\n",
    "dte = 5\n",
    "iv1 = 0.157\n",
    "prima = getCall(spot, strike1, dte, iv1)\n",
    "print(f'dte: {dte}, prima: {prima}')"
   ]
  },
  {
   "cell_type": "code",
   "execution_count": null,
   "metadata": {},
   "outputs": [],
   "source": [
    "# call/put option price, underlying price, strike price, time to maturity, risk free rate, implied volatility\n",
    "# Underlying price (per share): S;\n",
    "# Strike price of the option (per share): K;\n",
    "# Time to maturity (years): T;\n",
    "# Continuously compounding risk-free interest rate: r;\n",
    "# Continuously compounding dividend: q;\n",
    "# Volatility: sigma;\n",
    "# def implied_vol(option_type, option_price, S, K, r, T, q=0):\n",
    "#          option_type, price, Spot, Strike, Free Rate, DTE\n",
    "print (implied_vol('c', 6.3490, 191.94, 190, 0.0525, 28))\n",
    "print (implied_vol('p', 3.90, 191.94, 190, 0.0525, 28))"
   ]
  },
  {
   "cell_type": "code",
   "execution_count": null,
   "metadata": {},
   "outputs": [],
   "source": []
  }
 ],
 "metadata": {
  "kernelspec": {
   "display_name": ".venv",
   "language": "python",
   "name": "python3"
  },
  "language_info": {
   "codemirror_mode": {
    "name": "ipython",
    "version": 3
   },
   "file_extension": ".py",
   "mimetype": "text/x-python",
   "name": "python",
   "nbconvert_exporter": "python",
   "pygments_lexer": "ipython3",
   "version": "3.11.7"
  }
 },
 "nbformat": 4,
 "nbformat_minor": 2
}
